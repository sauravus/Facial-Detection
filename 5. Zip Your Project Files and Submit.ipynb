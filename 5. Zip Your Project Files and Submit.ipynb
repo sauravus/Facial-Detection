{
 "cells": [
  {
   "cell_type": "code",
   "execution_count": 1,
   "metadata": {},
   "outputs": [
    {
     "name": "stdout",
     "output_type": "stream",
     "text": [
      "[NbConvertApp] Converting notebook 2. Define the Network Architecture.ipynb to html\n",
      "[NbConvertApp] Writing 1112352 bytes to 2. Define the Network Architecture.html\n",
      "[NbConvertApp] Converting notebook 3. Facial Keypoint Detection, Complete Pipeline.ipynb to html\n",
      "[NbConvertApp] Writing 1136289 bytes to 3. Facial Keypoint Detection, Complete Pipeline.html\n",
      "[NbConvertApp] Converting notebook 4. Fun with Keypoints.ipynb to html\n",
      "[NbConvertApp] Writing 415373 bytes to 4. Fun with Keypoints.html\n"
     ]
    }
   ],
   "source": [
    "!jupyter nbconvert \"2. Define the Network Architecture.ipynb\"\n",
    "!jupyter nbconvert \"3. Facial Keypoint Detection, Complete Pipeline.ipynb\"\n",
    "!jupyter nbconvert \"4. Fun with Keypoints.ipynb\""
   ]
  },
  {
   "cell_type": "markdown",
   "metadata": {},
   "source": [
    "### Zip the project files\n",
    "\n",
    "Next, we'll zip all these notebook files and your `models.py` file into one compressed archive named `project1.zip`.\n",
    "\n",
    "After completing this step you should see this zip file appear in your home directory, where you can download it as seen in the image below, by selecting it from the list and clicking **Download**.\n",
    "\n",
    "<img src='images/download_ex.png' width=50% height=50%/>\n"
   ]
  },
  {
   "cell_type": "code",
   "execution_count": 2,
   "metadata": {},
   "outputs": [
    {
     "name": "stdout",
     "output_type": "stream",
     "text": [
      "  adding: 2. Define the Network Architecture.html (deflated 61%)\n",
      "  adding: models.py (deflated 61%)\n",
      "  adding: 4. Fun with Keypoints.html (deflated 66%)\n",
      "  adding: 3. Facial Keypoint Detection, Complete Pipeline.html (deflated 40%)\n"
     ]
    }
   ],
   "source": [
    "!!apt-get -y update && apt-get install -y zip\n",
    "!zip project11.zip -r . -i@filelist.txt"
   ]
  },
  {
   "cell_type": "markdown",
   "metadata": {},
   "source": [
    "### Submit Your Project\n",
    "\n",
    "After creating and downloading your zip file, click on the `Submit` button and follow the instructions for submitting your `project1.zip` file. Congratulations on completing this project and I hope you enjoyed it!"
   ]
  }
 ],
 "metadata": {
  "kernelspec": {
   "display_name": "Python 3",
   "language": "python",
   "name": "python3"
  },
  "language_info": {
   "codemirror_mode": {
    "name": "ipython",
    "version": 3
   },
   "file_extension": ".py",
   "mimetype": "text/x-python",
   "name": "python",
   "nbconvert_exporter": "python",
   "pygments_lexer": "ipython3",
   "version": "3.6.3"
  }
 },
 "nbformat": 4,
 "nbformat_minor": 2
}
